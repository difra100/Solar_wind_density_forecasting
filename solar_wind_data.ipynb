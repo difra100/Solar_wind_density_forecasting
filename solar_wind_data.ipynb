{
 "cells": [
  {
   "cell_type": "markdown",
   "metadata": {},
   "source": [
    "# A CNN-LSTM framework for the solar wind density forecasting\n",
    "In this notebook we pre-process solar wind and solar binary mask for the time series analysis\n",
    "\n",
    "\n",
    "## Notebook Contributors\n",
    "* Andrea Giuseppe Di Francesco -- email: difrancesco.1836928@studenti.uniroma1.it\n",
    "* Massimo Coppotelli -- email: coppotelli.1705325@studenti.uniroma1.it"
   ]
  },
  {
   "cell_type": "code",
   "execution_count": 1,
   "metadata": {},
   "outputs": [],
   "source": [
    "# !pip install pandas\n",
    "# !pip install numpy\n",
    "# !pip install torch"
   ]
  },
  {
   "cell_type": "code",
   "execution_count": 2,
   "metadata": {},
   "outputs": [],
   "source": [
    "import pandas as pd\n",
    "import numpy as np\n",
    "#import torch\n"
   ]
  },
  {
   "cell_type": "code",
   "execution_count": 21,
   "metadata": {},
   "outputs": [
    {
     "name": "stderr",
     "output_type": "stream",
     "text": [
      "/tmp/ipykernel_169747/2028443142.py:15: DtypeWarning: Columns (1,2) have mixed types. Specify dtype option on import or set low_memory=False.\n",
      "  data_elc = pd.read_csv(path_elc, skiprows= open_dataframe(path_elc))\n",
      "/tmp/ipykernel_169747/2028443142.py:18: DtypeWarning: Columns (1,2) have mixed types. Specify dtype option on import or set low_memory=False.\n",
      "  data_ptr = pd.read_csv(path_ptr, skiprows= open_dataframe(path_ptr))\n"
     ]
    }
   ],
   "source": [
    "\n",
    "def open_dataframe(total_path):\n",
    "    with open(total_path, 'r') as f:\n",
    "        skippies = 0\n",
    "        for line in f.readlines():\n",
    "            # print(line)\n",
    "            if line.startswith(\"#\"):\n",
    "                skippies += 1\n",
    "            else:\n",
    "                break\n",
    "\n",
    "    return skippies  \n",
    "\n",
    "path_elc = './wind_dataset/wind-2012/WI_ELM2_3DP_45129.csv'\n",
    "path_ptr = './wind_dataset/wind-2012/OMNI_HRO_5MIN_45129.csv'\n",
    "data_elc = pd.read_csv(path_elc, skiprows= open_dataframe(path_elc))\n",
    "\n",
    "# data_elc = \n",
    "data_ptr = pd.read_csv(path_ptr, skiprows= open_dataframe(path_ptr))\n"
   ]
  },
  {
   "cell_type": "code",
   "execution_count": 100,
   "metadata": {},
   "outputs": [
    {
     "data": {
      "text/plain": [
       "array([[1.        , 0.99983267],\n",
       "       [0.99983267, 1.        ]])"
      ]
     },
     "execution_count": 100,
     "metadata": {},
     "output_type": "execute_result"
    }
   ],
   "source": [
    "electron_density = data_elc['ELECTRON_NO_DENSITY_#/cm3'][:1000].astype(float)\n",
    "elc_sws = data_elc['MOST_PROBABLE_SPEED_ELECTRONS_km/sec'][:1000].astype(float)\n",
    "\n",
    "proton_density = data_ptr['PROTON_DENSITY_n/cc'][:-3].astype(float)\n",
    "sws = data_ptr['FLOW_SPEED__GSE_km/s'][:-3].astype(float)\n",
    "\n"
   ]
  }
 ],
 "metadata": {
  "kernelspec": {
   "display_name": "Python 3.10.6 ('my_env')",
   "language": "python",
   "name": "python3"
  },
  "language_info": {
   "codemirror_mode": {
    "name": "ipython",
    "version": 3
   },
   "file_extension": ".py",
   "mimetype": "text/x-python",
   "name": "python",
   "nbconvert_exporter": "python",
   "pygments_lexer": "ipython3",
   "version": "3.10.6"
  },
  "orig_nbformat": 4,
  "vscode": {
   "interpreter": {
    "hash": "3d541b27ed3f6b3a2668175b94af942c53fef9dc2000d6033c45f742df07c856"
   }
  }
 },
 "nbformat": 4,
 "nbformat_minor": 2
}
