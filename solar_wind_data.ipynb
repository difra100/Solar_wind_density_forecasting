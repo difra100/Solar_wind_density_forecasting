{
 "cells": [
  {
   "cell_type": "markdown",
   "metadata": {},
   "source": [
    "# A CNN-LSTM framework for the solar wind density forecasting\n",
    "In this notebook we pre-process solar wind and solar binary mask for the time series analysis\n",
    "\n",
    "\n",
    "## Notebook Contributors\n",
    "* Andrea Giuseppe Di Francesco -- email: difrancesco.1836928@studenti.uniroma1.it\n",
    "* Massimo Coppotelli -- email: coppotelli.1705325@studenti.uniroma1.it"
   ]
  },
  {
   "cell_type": "code",
   "execution_count": 1,
   "metadata": {},
   "outputs": [],
   "source": [
    "# !pip install pandas\n",
    "# !pip install numpy\n",
    "# !pip install torch\n",
    "# !pip install matplotlib"
   ]
  },
  {
   "cell_type": "code",
   "execution_count": 8,
   "metadata": {},
   "outputs": [],
   "source": [
    "import pandas as pd\n",
    "import numpy as np\n",
    "import matplotlib.pyplot as plt\n",
    "import torch\n",
    "from torchvision import transforms\n"
   ]
  },
  {
   "cell_type": "code",
   "execution_count": 2,
   "metadata": {},
   "outputs": [
    {
     "name": "stderr",
     "output_type": "stream",
     "text": [
      "/tmp/ipykernel_4069/2028443142.py:15: DtypeWarning: Columns (1,2) have mixed types. Specify dtype option on import or set low_memory=False.\n",
      "  data_elc = pd.read_csv(path_elc, skiprows= open_dataframe(path_elc))\n",
      "/tmp/ipykernel_4069/2028443142.py:18: DtypeWarning: Columns (1,2) have mixed types. Specify dtype option on import or set low_memory=False.\n",
      "  data_ptr = pd.read_csv(path_ptr, skiprows= open_dataframe(path_ptr))\n"
     ]
    }
   ],
   "source": [
    "\n",
    "def open_dataframe(total_path):\n",
    "    with open(total_path, 'r') as f:\n",
    "        skippies = 0\n",
    "        for line in f.readlines():\n",
    "            # print(line)\n",
    "            if line.startswith(\"#\"):\n",
    "                skippies += 1\n",
    "            else:\n",
    "                break\n",
    "\n",
    "    return skippies  \n",
    "\n",
    "path_elc = './wind_dataset/wind-2012/WI_ELM2_3DP_45129.csv'\n",
    "path_ptr = './wind_dataset/wind-2012/OMNI_HRO_5MIN_45129.csv'\n",
    "data_elc = pd.read_csv(path_elc, skiprows= open_dataframe(path_elc))\n",
    "\n",
    "# data_elc = \n",
    "data_ptr = pd.read_csv(path_ptr, skiprows= open_dataframe(path_ptr))\n"
   ]
  },
  {
   "cell_type": "code",
   "execution_count": 3,
   "metadata": {},
   "outputs": [],
   "source": [
    "electron_density = data_elc['ELECTRON_NO_DENSITY_#/cm3'][:1000].astype(float)\n",
    "elc_sws = data_elc['MOST_PROBABLE_SPEED_ELECTRONS_km/sec'][:1000].astype(float)\n",
    "\n",
    "proton_density = data_ptr['PROTON_DENSITY_n/cc'][:-3].astype(float)\n",
    "sws = data_ptr['FLOW_SPEED__GSE_km/s'][:-3].astype(float)\n",
    "\n"
   ]
  },
  {
   "cell_type": "code",
   "execution_count": 19,
   "metadata": {},
   "outputs": [
    {
     "data": {
      "text/plain": [
       "torch.Size([1, 224, 224])"
      ]
     },
     "execution_count": 19,
     "metadata": {},
     "output_type": "execute_result"
    }
   ],
   "source": [
    "from PIL import Image\n",
    "\n",
    "img = Image.open(\"2012_1_2_T_0_0_0.jpg_AR.jpg_BIN.jpg\")\n",
    "\n",
    "convert_images1 = transforms.ToTensor()\n",
    "convert_images2 = transforms.Grayscale()\n",
    "convert_images3 = transforms.Resize((224,224))\n",
    "\n",
    "img = convert_images3(convert_images2(convert_images1(img)))\n",
    "\n",
    "# plt.imshow(img.permute(1, 2, 0)) \n",
    "\n"
   ]
  }
 ],
 "metadata": {
  "kernelspec": {
   "display_name": "Python 3.9.15 ('my_env')",
   "language": "python",
   "name": "python3"
  },
  "language_info": {
   "codemirror_mode": {
    "name": "ipython",
    "version": 3
   },
   "file_extension": ".py",
   "mimetype": "text/x-python",
   "name": "python",
   "nbconvert_exporter": "python",
   "pygments_lexer": "ipython3",
   "version": "3.9.15"
  },
  "orig_nbformat": 4,
  "vscode": {
   "interpreter": {
    "hash": "fb5445bfbf8972ec5f7b2dac98ed41742e280e56e41d5d2d5df357ace3791bc0"
   }
  }
 },
 "nbformat": 4,
 "nbformat_minor": 2
}
