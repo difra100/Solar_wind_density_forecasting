{
 "cells": [
  {
   "cell_type": "markdown",
   "metadata": {},
   "source": [
    "# A CNN-LSTM framework for the solar wind density forecasting\n",
    "In this notebook we pre-process solar wind and solar binary mask for the time series analysis\n",
    "\n",
    "\n",
    "## Notebook Contributors\n",
    "* Andrea Giuseppe Di Francesco -- email: difrancesco.1836928@studenti.uniroma1.it\n",
    "* Massimo Coppotelli -- email: coppotelli.1705325@studenti.uniroma1.it"
   ]
  },
  {
   "cell_type": "code",
   "execution_count": 1,
   "metadata": {},
   "outputs": [],
   "source": [
    "# !pip install pandas\n",
    "# !pip install numpy\n",
    "# !pip install torch\n",
    "# !pip install matplotlib"
   ]
  },
  {
   "cell_type": "code",
   "execution_count": 1,
   "metadata": {},
   "outputs": [
    {
     "name": "stderr",
     "output_type": "stream",
     "text": [
      "/home/peppe/miniconda3/envs/my_env/lib/python3.9/site-packages/tqdm/auto.py:22: TqdmWarning: IProgress not found. Please update jupyter and ipywidgets. See https://ipywidgets.readthedocs.io/en/stable/user_install.html\n",
      "  from .autonotebook import tqdm as notebook_tqdm\n"
     ]
    }
   ],
   "source": [
    "import pandas as pd\n",
    "import numpy as np\n",
    "import matplotlib.pyplot as plt\n",
    "import torch\n",
    "from torchvision import transforms\n"
   ]
  },
  {
   "cell_type": "code",
   "execution_count": 2,
   "metadata": {},
   "outputs": [
    {
     "name": "stderr",
     "output_type": "stream",
     "text": [
      "/tmp/ipykernel_3967/56647363.py:16: DtypeWarning: Columns (1,2) have mixed types. Specify dtype option on import or set low_memory=False.\n",
      "  data_elc = pd.read_csv(path_elc, skiprows= open_dataframe(path_elc))\n",
      "/tmp/ipykernel_3967/56647363.py:19: DtypeWarning: Columns (1,2) have mixed types. Specify dtype option on import or set low_memory=False.\n",
      "  data_ptr = pd.read_csv(path_ptr, skiprows= open_dataframe(path_ptr))\n"
     ]
    }
   ],
   "source": [
    "\n",
    "def open_dataframe(total_path):\n",
    "    # This function open the raw dataframe, by skipping the comments on the top of it.\n",
    "    with open(total_path, 'r') as f:\n",
    "        skippies = 0\n",
    "        for line in f.readlines():\n",
    "            # print(line)\n",
    "            if line.startswith(\"#\"):\n",
    "                skippies += 1\n",
    "            else:\n",
    "                break\n",
    "\n",
    "    return skippies  \n",
    "\n",
    "path_elc = './wind_dataset/wind-2012/WI_ELM2_3DP_45129.csv'\n",
    "path_ptr = './wind_dataset/wind-2012/OMNI_HRO_5MIN_45129.csv'\n",
    "data_elc = pd.read_csv(path_elc, skiprows= open_dataframe(path_elc))\n",
    "\n",
    "# data_elc = \n",
    "data_ptr = pd.read_csv(path_ptr, skiprows= open_dataframe(path_ptr))\n"
   ]
  },
  {
   "attachments": {},
   "cell_type": "markdown",
   "metadata": {},
   "source": [
    "### Image transformation\n",
    "* In this cell is applied the image transformation for the solar binart masks.\n"
   ]
  },
  {
   "cell_type": "code",
   "execution_count": 8,
   "metadata": {},
   "outputs": [
    {
     "data": {
      "text/plain": [
       "<matplotlib.image.AxesImage at 0x7f5736a03520>"
      ]
     },
     "execution_count": 8,
     "metadata": {},
     "output_type": "execute_result"
    },
    {
     "data": {
      "image/png": "[encoded data removed]",
      "text/plain": [
       "<Figure size 432x288 with 1 Axes>"
      ]
     },
     "metadata": {
      "needs_background": "light"
     },
     "output_type": "display_data"
    }
   ],
   "source": [
    "from PIL import Image\n",
    "\n",
    "img = Image.open(\"2012_1_2_T_0_0_0.jpg_AR.jpg_BIN.jpg\")\n",
    "\n",
    "transform = transforms.Compose([transforms.ToTensor(), transforms.Grayscale(), transforms.Resize((224,224))])\n",
    "\n",
    "img = transform(img)\n",
    "\n",
    "plt.imshow(img.permute(1, 2, 0), cmap = 'gray') \n",
    "\n"
   ]
  },
  {
   "attachments": {},
   "cell_type": "markdown",
   "metadata": {},
   "source": [
    "## Solar wind density (Protons + Electron densities)\n",
    "\n",
    "* In this cell are retrieved the values for the electrons and protons 's densities."
   ]
  },
  {
   "cell_type": "code",
   "execution_count": 9,
   "metadata": {},
   "outputs": [],
   "source": [
    "\n",
    "timesteps_of_interest = data_ptr['EPOCH_BIN_yyyy-mm-ddThh:mm:ss.sssZ'][data_ptr['EPOCH_BIN_yyyy-mm-ddThh:mm:ss.sssZ'].str.slice(start = 11, stop = 19) == '00:03:00']\n",
    "\n",
    "timesteps_of_interest = timesteps_of_interest.str.slice(start = 0, stop = -5)\n",
    "\n",
    "proton_density = data_ptr[(data_ptr['EPOCH_BIN_yyyy-mm-ddThh:mm:ss.sssZ'].str.slice(start = 11, stop = 19) == '00:03:00')]['PROTON_DENSITY_n/cc']    #[]\n",
    "\n",
    "electron_density = data_elc[(data_elc['EPOCH_yyyy-mm-ddThh:mm:ss.sssZ'].str.slice(start = 11, stop = 19) == '00:03:00')]['ELECTRON_NO_DENSITY_#/cm3']\n",
    "\n",
    "series_of_interest = [timesteps_of_interest, proton_density, electron_density]\n",
    "\n",
    "columns = ['timestep (1d)', 'Proton density', 'Electron_density']\n",
    "\n",
    "wind_dataset = pd.concat(series_of_interest, axis = 1)\n",
    "wind_dataset.columns = columns\n",
    "\n",
    "wind_dataset = wind_dataset[6:]\n",
    "\n",
    "wind_dataset.index = list(range(0,len(wind_dataset)))\n"
   ]
  },
  {
   "cell_type": "code",
   "execution_count": 10,
   "metadata": {},
   "outputs": [],
   "source": [
    "prediction_time = '2012-01-01T00:03:00'\n",
    "\n",
    "H = 4  # day\n",
    "D = 2  # day\n",
    "\n",
    "resolution = pd.Timedelta(1, 'd')\n",
    "\n",
    "def get_first_useful_date(H, D, resolution):\n",
    "    ''' This function helps to understand where to start considering the solar wind dataset '''\n",
    "\n",
    "    start_date = '2012-01-01T00:00:00'\n",
    "    start_date = pd.to_datetime(start_date, format = '%Y-%m-%dT%H:%M:%S')\n",
    "    delay = pd.Timedelta(D, 'd') + pd.Timedelta(3, 'm') # 3 minutes of difference, due to the different datasets' samplings.\n",
    "    history = pd.Timedelta(H, 'd')\n",
    "\n",
    "    first_useful_date = start_date + history + delay\n",
    "\n",
    "    return first_useful_date\n",
    "\n",
    "\n",
    "\n",
    "\n",
    "def get_history_images(prediction_time, H, D, resolution):\n",
    "    ''' This function is needed to take a solar wind measure occurring in a prediction date, and retrieve all the data requested for the forecasting. \n",
    "        INPUTs: prediction_time: Solar wind density datetime, H: History value, D: Time between last image and the prediction time, resolution: Sampling time of the data\n",
    "        OUTPUT: list of the sun images date to take. '''\n",
    "    prediction_time = pd.to_datetime(prediction_time, format = '%Y-%m-%dT%H:%M:%S')\n",
    "    \n",
    "    delay = pd.Timedelta(D, 'd') + pd.Timedelta(3, 'm') # 3 minutes of difference, due to the different datasets' samplings.\n",
    "    history = pd.Timedelta(H, 'd')\n",
    "    \n",
    "\n",
    "    right_limit = prediction_time - delay # Closest time to the prediction\n",
    "    left_limit = right_limit - history\n",
    "\n",
    "    times_of_interest = [str(left_limit)]\n",
    "    current_time = left_limit\n",
    "\n",
    "    while current_time != right_limit:\n",
    "\n",
    "        current_time += resolution\n",
    "        times_of_interest.append(str(current_time))\n",
    "\n",
    "    \n",
    "    return times_of_interest\n",
    "\n",
    "def get_sun_format(element):\n",
    "\n",
    "    tail = '.jpg_AR.jpg_BIN.jpg'\n",
    "\n",
    "    year = element[0:4]\n",
    "    if element[5] == str(0):\n",
    "        month = element[6]\n",
    "    else:\n",
    "        month = element[5:7]\n",
    "    if element[8] == str(0):\n",
    "        day = element[9]\n",
    "    else:\n",
    "        day = element[8:10]\n",
    "\n",
    "    if element[11] == str(0):\n",
    "        hours = element[12]\n",
    "    else:\n",
    "        hours = element[11:13]\n",
    "    \n",
    "    if element[14] == str(0):\n",
    "        minutes = element[15]\n",
    "    else:\n",
    "        minutes = element[14:16]\n",
    "    \n",
    "    if element[17] == str(0):\n",
    "        seconds = element[18]\n",
    "    else:\n",
    "        seconds = element[17:19]\n",
    "    \n",
    "    new_format = year+'_'+month+'_'+day+'_'+'T'+'_'+hours+'_'+minutes+'_'+seconds+tail\n",
    "    return new_format\n",
    "\n",
    "def get_numpy_image(image):\n",
    "    \n",
    "    try:\n",
    "        img = Image.open('./ARI_Images/'+image)\n",
    "\n",
    "        transform = transforms.Compose([transforms.ToTensor(), transforms.Grayscale(), transforms.Resize((224,224))])\n",
    "\n",
    "        img = transform(img)\n",
    "\n",
    "        img = np.array(img).tolist()\n",
    "        return img\n",
    "    except FileNotFoundError:\n",
    "        print('./ARI_Images/'+image)\n",
    "        pass\n",
    "    \n"
   ]
  },
  {
   "cell_type": "code",
   "execution_count": 11,
   "metadata": {},
   "outputs": [
    {
     "name": "stdout",
     "output_type": "stream",
     "text": [
      "./ARI_Images/2012_1_30_T_0_0_0.jpg_AR.jpg_BIN.jpg\n",
      "./ARI_Images/2012_1_30_T_0_0_0.jpg_AR.jpg_BIN.jpg\n",
      "./ARI_Images/2012_2_1_T_0_0_0.jpg_AR.jpg_BIN.jpg\n",
      "./ARI_Images/2012_1_30_T_0_0_0.jpg_AR.jpg_BIN.jpg\n",
      "./ARI_Images/2012_2_1_T_0_0_0.jpg_AR.jpg_BIN.jpg\n",
      "./ARI_Images/2012_2_1_T_0_0_0.jpg_AR.jpg_BIN.jpg\n",
      "./ARI_Images/2012_3_5_T_0_0_0.jpg_AR.jpg_BIN.jpg\n",
      "./ARI_Images/2012_3_5_T_0_0_0.jpg_AR.jpg_BIN.jpg\n",
      "./ARI_Images/2012_3_5_T_0_0_0.jpg_AR.jpg_BIN.jpg\n",
      "./ARI_Images/2012_3_31_T_0_0_0.jpg_AR.jpg_BIN.jpg\n",
      "./ARI_Images/2012_3_31_T_0_0_0.jpg_AR.jpg_BIN.jpg\n",
      "./ARI_Images/2012_3_31_T_0_0_0.jpg_AR.jpg_BIN.jpg\n",
      "./ARI_Images/2012_5_23_T_0_0_0.jpg_AR.jpg_BIN.jpg\n",
      "./ARI_Images/2012_5_23_T_0_0_0.jpg_AR.jpg_BIN.jpg\n",
      "./ARI_Images/2012_5_25_T_0_0_0.jpg_AR.jpg_BIN.jpg\n",
      "./ARI_Images/2012_5_23_T_0_0_0.jpg_AR.jpg_BIN.jpg\n",
      "./ARI_Images/2012_5_25_T_0_0_0.jpg_AR.jpg_BIN.jpg\n",
      "./ARI_Images/2012_5_25_T_0_0_0.jpg_AR.jpg_BIN.jpg\n",
      "./ARI_Images/2012_6_5_T_0_0_0.jpg_AR.jpg_BIN.jpg\n",
      "./ARI_Images/2012_6_5_T_0_0_0.jpg_AR.jpg_BIN.jpg\n",
      "./ARI_Images/2012_6_5_T_0_0_0.jpg_AR.jpg_BIN.jpg\n",
      "./ARI_Images/2012_6_15_T_0_0_0.jpg_AR.jpg_BIN.jpg\n",
      "./ARI_Images/2012_6_15_T_0_0_0.jpg_AR.jpg_BIN.jpg\n",
      "./ARI_Images/2012_6_16_T_0_0_0.jpg_AR.jpg_BIN.jpg\n",
      "./ARI_Images/2012_6_16_T_0_0_0.jpg_AR.jpg_BIN.jpg\n",
      "./ARI_Images/2012_6_15_T_0_0_0.jpg_AR.jpg_BIN.jpg\n",
      "./ARI_Images/2012_6_16_T_0_0_0.jpg_AR.jpg_BIN.jpg\n",
      "./ARI_Images/2012_6_20_T_0_0_0.jpg_AR.jpg_BIN.jpg\n",
      "./ARI_Images/2012_6_20_T_0_0_0.jpg_AR.jpg_BIN.jpg\n",
      "./ARI_Images/2012_6_20_T_0_0_0.jpg_AR.jpg_BIN.jpg\n",
      "./ARI_Images/2012_6_23_T_0_0_0.jpg_AR.jpg_BIN.jpg\n",
      "./ARI_Images/2012_6_23_T_0_0_0.jpg_AR.jpg_BIN.jpg\n",
      "./ARI_Images/2012_6_23_T_0_0_0.jpg_AR.jpg_BIN.jpg\n",
      "./ARI_Images/2012_6_28_T_0_0_0.jpg_AR.jpg_BIN.jpg\n",
      "./ARI_Images/2012_6_28_T_0_0_0.jpg_AR.jpg_BIN.jpg\n",
      "./ARI_Images/2012_6_28_T_0_0_0.jpg_AR.jpg_BIN.jpg\n",
      "./ARI_Images/2012_7_20_T_0_0_0.jpg_AR.jpg_BIN.jpg\n",
      "./ARI_Images/2012_7_20_T_0_0_0.jpg_AR.jpg_BIN.jpg\n",
      "./ARI_Images/2012_7_20_T_0_0_0.jpg_AR.jpg_BIN.jpg\n",
      "./ARI_Images/2012_7_24_T_0_0_0.jpg_AR.jpg_BIN.jpg\n",
      "./ARI_Images/2012_7_24_T_0_0_0.jpg_AR.jpg_BIN.jpg\n",
      "./ARI_Images/2012_7_25_T_0_0_0.jpg_AR.jpg_BIN.jpg\n",
      "./ARI_Images/2012_7_25_T_0_0_0.jpg_AR.jpg_BIN.jpg\n",
      "./ARI_Images/2012_7_24_T_0_0_0.jpg_AR.jpg_BIN.jpg\n",
      "./ARI_Images/2012_7_25_T_0_0_0.jpg_AR.jpg_BIN.jpg\n",
      "./ARI_Images/2012_7_29_T_0_0_0.jpg_AR.jpg_BIN.jpg\n",
      "./ARI_Images/2012_7_29_T_0_0_0.jpg_AR.jpg_BIN.jpg\n",
      "./ARI_Images/2012_7_29_T_0_0_0.jpg_AR.jpg_BIN.jpg\n",
      "./ARI_Images/2012_8_7_T_0_0_0.jpg_AR.jpg_BIN.jpg\n",
      "./ARI_Images/2012_8_7_T_0_0_0.jpg_AR.jpg_BIN.jpg\n",
      "./ARI_Images/2012_8_7_T_0_0_0.jpg_AR.jpg_BIN.jpg\n",
      "./ARI_Images/2012_9_5_T_0_0_0.jpg_AR.jpg_BIN.jpg\n",
      "./ARI_Images/2012_9_5_T_0_0_0.jpg_AR.jpg_BIN.jpg\n",
      "./ARI_Images/2012_9_5_T_0_0_0.jpg_AR.jpg_BIN.jpg\n",
      "./ARI_Images/2012_9_8_T_0_0_0.jpg_AR.jpg_BIN.jpg\n",
      "./ARI_Images/2012_9_8_T_0_0_0.jpg_AR.jpg_BIN.jpg\n",
      "./ARI_Images/2012_9_8_T_0_0_0.jpg_AR.jpg_BIN.jpg\n",
      "./ARI_Images/2012_9_26_T_0_0_0.jpg_AR.jpg_BIN.jpg\n",
      "./ARI_Images/2012_9_26_T_0_0_0.jpg_AR.jpg_BIN.jpg\n",
      "./ARI_Images/2012_9_27_T_0_0_0.jpg_AR.jpg_BIN.jpg\n",
      "./ARI_Images/2012_9_27_T_0_0_0.jpg_AR.jpg_BIN.jpg\n",
      "./ARI_Images/2012_9_26_T_0_0_0.jpg_AR.jpg_BIN.jpg\n",
      "./ARI_Images/2012_9_27_T_0_0_0.jpg_AR.jpg_BIN.jpg\n",
      "./ARI_Images/2012_9_30_T_0_0_0.jpg_AR.jpg_BIN.jpg\n",
      "./ARI_Images/2012_9_30_T_0_0_0.jpg_AR.jpg_BIN.jpg\n",
      "./ARI_Images/2012_10_1_T_0_0_0.jpg_AR.jpg_BIN.jpg\n",
      "./ARI_Images/2012_10_1_T_0_0_0.jpg_AR.jpg_BIN.jpg\n",
      "./ARI_Images/2012_9_30_T_0_0_0.jpg_AR.jpg_BIN.jpg\n",
      "./ARI_Images/2012_10_1_T_0_0_0.jpg_AR.jpg_BIN.jpg\n",
      "./ARI_Images/2012_12_25_T_0_0_0.jpg_AR.jpg_BIN.jpg\n",
      "./ARI_Images/2012_12_25_T_0_0_0.jpg_AR.jpg_BIN.jpg\n",
      "./ARI_Images/2012_12_25_T_0_0_0.jpg_AR.jpg_BIN.jpg\n"
     ]
    }
   ],
   "source": [
    "dataframe = wind_dataset\n",
    "\n",
    "\n",
    "def get_full_dataset(wind_df, H, D, resolution):\n",
    "\n",
    "    diz = {}\n",
    "\n",
    "    for d_idx in range(len(dataframe)):\n",
    "        prediction_date = dataframe.loc[d_idx, 'timestep (1d)']\n",
    "        dates_list = get_history_images(prediction_date, H, D, resolution)\n",
    "        \n",
    "        for el in dates_list:\n",
    "            if el in diz:\n",
    "                dates_list.remove(el)\n",
    "\n",
    "        sun_list = list(map(get_sun_format, dates_list))\n",
    "\n",
    "\n",
    "\n",
    "        inter_diz = {dates_list[idx]: get_numpy_image(sun_list[idx]) for idx in range(len(dates_list))}\n",
    "\n",
    "        diz.update(inter_diz)\n",
    "    return diz\n",
    "\n",
    "diz = get_full_dataset(dataframe, H, D, resolution)\n",
    "\n"
   ]
  },
  {
   "cell_type": "code",
   "execution_count": 12,
   "metadata": {},
   "outputs": [],
   "source": [
    "import json \n",
    "save_file = open('ARI_image_dataset.json',\"w\")\n",
    "json.dump(diz, save_file)\n",
    "\n"
   ]
  }
 ],
 "metadata": {
  "kernelspec": {
   "display_name": "Python 3.9.15 ('my_env')",
   "language": "python",
   "name": "python3"
  },
  "language_info": {
   "codemirror_mode": {
    "name": "ipython",
    "version": 3
   },
   "file_extension": ".py",
   "mimetype": "text/x-python",
   "name": "python",
   "nbconvert_exporter": "python",
   "pygments_lexer": "ipython3",
   "version": "3.9.15"
  },
  "orig_nbformat": 4,
  "vscode": {
   "interpreter": {
    "hash": "fb5445bfbf8972ec5f7b2dac98ed41742e280e56e41d5d2d5df357ace3791bc0"
   }
  }
 },
 "nbformat": 4,
 "nbformat_minor": 2
}
